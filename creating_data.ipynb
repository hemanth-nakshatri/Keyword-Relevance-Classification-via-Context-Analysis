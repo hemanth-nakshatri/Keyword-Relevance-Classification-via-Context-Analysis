{
 "cells": [
  {
   "cell_type": "code",
   "execution_count": 2,
   "metadata": {},
   "outputs": [
    {
     "name": "stdout",
     "output_type": "stream",
     "text": [
      "Keyword counts: {'sprint': 324, 'amazon': 598, 'apple': 3737, 'shell': 1225, 'frontier': 41}\n"
     ]
    }
   ],
   "source": [
    "import pandas as pd\n",
    "from fuzzywuzzy import fuzz\n",
    "from collections import defaultdict\n",
    "\n",
    "def load_and_filter_data(file_path, keywords, similarity_threshold):\n",
    "    try:\n",
    "        # Load the data\n",
    "        data = pd.read_csv(file_path, header=None, encoding='latin-1')\n",
    "        \n",
    "        # Initialize keyword counts\n",
    "        keyword_counts = defaultdict(int)\n",
    "\n",
    "        # Define the function for exact and similar matches\n",
    "        def contains_keyword(text):\n",
    "            text_lower = text.lower()\n",
    "            for keyword in keywords:\n",
    "                if keyword.lower() in text_lower:  # Exact match check\n",
    "                    keyword_counts[keyword] += 1\n",
    "                    return True\n",
    "                # Similar match check using fuzz.partial_ratio\n",
    "                elif fuzz.partial_ratio(keyword.lower(), text_lower) >= similarity_threshold:\n",
    "                    keyword_counts[keyword] += 1\n",
    "                    return True\n",
    "            return False\n",
    "\n",
    "        # Filter tweets containing the keywords\n",
    "        filtered_data = data[data[5].apply(contains_keyword)]\n",
    "        \n",
    "        print(\"Keyword counts:\", dict(keyword_counts))  # Optionally print the counts of matches\n",
    "        return filtered_data\n",
    "    except Exception as e:\n",
    "        print(\"Error during data loading or filtering:\", str(e))\n",
    "        return pd.DataFrame()  # Return empty DataFrame in case of error\n",
    "\n",
    "def save_to_excel(data, output_file_path):\n",
    "    try:\n",
    "        # Save the filtered data to an Excel file\n",
    "        with pd.ExcelWriter(output_file_path, engine='openpyxl') as writer:\n",
    "            data.to_excel(writer, index=False, sheet_name='Filtered Tweets')\n",
    "    except Exception as e:\n",
    "        print(\"Error saving to Excel:\", str(e))\n",
    "\n",
    "# Specify file path and output path\n",
    "file_path = './Datasets/training.1600000.processed.noemoticon.csv'  # Input CSV file path\n",
    "output_file_path = 'filtered_tweets.xlsx'  # Desired output Excel file path\n",
    "keywords = ['apple', 'amazon', 'shell', 'sprint', 'frontier']  # List of keywords to filter by\n",
    "similarity_threshold = 85  # Set your similarity threshold\n",
    "\n",
    "# Load the data, filter it, and save to Excel\n",
    "filtered_data = load_and_filter_data(file_path, keywords, similarity_threshold)\n",
    "\n"
   ]
  },
  {
   "cell_type": "markdown",
   "metadata": {},
   "source": [
    "#### filtered_tweets.xlsx is a filtered version of the origional dataset with tweets that pertain to the 5 keyword entities ['apple', 'amazon', 'shell', 'sprint', 'frontier']"
   ]
  },
  {
   "cell_type": "code",
   "execution_count": 3,
   "metadata": {},
   "outputs": [
    {
     "name": "stdout",
     "output_type": "stream",
     "text": [
      "Data filtered and saved successfully.\n"
     ]
    }
   ],
   "source": [
    "# save to excel\n",
    "if not filtered_data.empty:\n",
    "    save_to_excel(filtered_data, output_file_path)\n",
    "    print(\"Data filtered and saved successfully.\")\n",
    "else:\n",
    "    print(\"No data to save.\")"
   ]
  },
  {
   "cell_type": "markdown",
   "metadata": {},
   "source": [
    "#### Cleaning: remove unnessesary columns and divide into sets with one specific entity  "
   ]
  },
  {
   "cell_type": "code",
   "execution_count": 6,
   "metadata": {},
   "outputs": [
    {
     "name": "stdout",
     "output_type": "stream",
     "text": [
      "Filtered data saved successfully to apple_tweets.xlsx\n"
     ]
    }
   ],
   "source": [
    "import pandas as pd\n",
    "from fuzzywuzzy import fuzz\n",
    "\n",
    "# Define the similarity threshold and keyword\n",
    "similarity_threshold = 85\n",
    "keyword = 'apple'\n",
    "\n",
    "# Function to check for similarity\n",
    "def is_similar(text, keyword, threshold):\n",
    "    return fuzz.partial_ratio(keyword.lower(), text.lower()) >= threshold\n",
    "\n",
    "# Filter for tweets containing 'apple' with similarity threshold\n",
    "apple_tweets = filtered_data[filtered_data[5].apply(is_similar, keyword=keyword, threshold=similarity_threshold)]\n",
    "\n",
    "# Remove columns 2 through 5\n",
    "apple_tweets = apple_tweets.drop(columns=[1, 2, 3, 4])\n",
    "\n",
    "# Change values in column 1 (0-indexed) to 0\n",
    "apple_tweets.iloc[:, 0] = 0  # Using .iloc to ensure the correct column is targeted by index\n",
    "\n",
    "# Save the modified data to an Excel file\n",
    "output_file_path_apple = 'apple_tweets.xlsx'\n",
    "with pd.ExcelWriter(output_file_path_apple, engine='openpyxl') as writer:\n",
    "    apple_tweets.to_excel(writer, index=False, sheet_name='Apple Tweets')\n",
    "\n",
    "print(\"Filtered data saved successfully to\", output_file_path_apple)\n"
   ]
  },
  {
   "cell_type": "markdown",
   "metadata": {},
   "source": [
    "#### Divide into equal parts for labeling"
   ]
  },
  {
   "cell_type": "code",
   "execution_count": 7,
   "metadata": {},
   "outputs": [
    {
     "name": "stdout",
     "output_type": "stream",
     "text": [
      "Data saved successfully to apple_tweets_nico.xlsx\n",
      "Data saved successfully to apple_tweets_devin.xlsx\n",
      "Data saved successfully to apple_tweets_hemanth.xlsx\n"
     ]
    }
   ],
   "source": [
    "# Divide the dataset into parts\n",
    "first_500 = apple_tweets.iloc[:1000]\n",
    "second_500 = apple_tweets.iloc[1000:2000]\n",
    "third_500 = apple_tweets.iloc[2000:3000]\n",
    "\n",
    "# Function to save each part to an Excel file\n",
    "def save_part_to_excel(part, filename):\n",
    "    output_file_path = f'{filename}.xlsx'\n",
    "    with pd.ExcelWriter(output_file_path, engine='openpyxl') as writer:\n",
    "        part.to_excel(writer, index=False, sheet_name='Tweets')\n",
    "    print(f\"Data saved successfully to {output_file_path}\")\n",
    "\n",
    "# Save each part\n",
    "save_part_to_excel(first_500, 'apple_tweets_nico')\n",
    "save_part_to_excel(second_500, 'apple_tweets_devin')\n",
    "save_part_to_excel(third_500, 'apple_tweets_hemanth')\n"
   ]
  }
 ],
 "metadata": {
  "kernelspec": {
   "display_name": "Python 3",
   "language": "python",
   "name": "python3"
  },
  "language_info": {
   "codemirror_mode": {
    "name": "ipython",
    "version": 3
   },
   "file_extension": ".py",
   "mimetype": "text/x-python",
   "name": "python",
   "nbconvert_exporter": "python",
   "pygments_lexer": "ipython3",
   "version": "3.10.2"
  }
 },
 "nbformat": 4,
 "nbformat_minor": 2
}
